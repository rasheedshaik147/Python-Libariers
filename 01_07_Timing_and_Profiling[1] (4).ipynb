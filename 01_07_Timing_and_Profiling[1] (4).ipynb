{
  "cells": [
    {
      "cell_type": "markdown",
      "metadata": {
        "id": "kRPnwy_oIoZy"
      },
      "source": [
        "# Profiling and Timing Code"
      ]
    },
    {
      "cell_type": "markdown",
      "metadata": {
        "id": "z60rLPJ-IoZz"
      },
      "source": [
        "In the process of developing code and creating data processing pipelines, there are often trade-offs you can make between various implementations.\n",
        "Early in developing your algorithm, it can be counterproductive to worry about such things. As Donald Knuth famously quipped, \"We should forget about small efficiencies, say about 97% of the time: premature optimization is the root of all evil.\"\n",
        "\n",
        "But once you have your code working, it can be useful to dig into its efficiency a bit.\n",
        "Sometimes it's useful to check the execution time of a given command or set of commands; other times it's useful to examine a multiline process and determine where the bottleneck lies in some complicated series of operations.\n",
        "IPython provides access to a wide array of functionality for this kind of timing and profiling of code.\n",
        "Here we'll discuss the following IPython magic commands:\n",
        "\n",
        "- `%time`: Time the execution of a single statement\n",
        "- `%timeit`: Time repeated execution of a single statement for more accuracy\n",
        "- `%prun`: Run code with the profiler\n",
        "- `%lprun`: Run code with the line-by-line profiler\n",
        "- `%memit`: Measure the memory use of a single statement\n",
        "- `%mprun`: Run code with the line-by-line memory profiler\n",
        "\n",
        "The last four commands are not bundled with IPython; to use them you'll need to get the `line_profiler` and `memory_profiler` extensions, which we will discuss in the following sections."
      ]
    },
    {
      "cell_type": "markdown",
      "metadata": {
        "id": "YZdOIpIsIoZz"
      },
      "source": [
        "## Timing Code Snippets: %timeit and %time\n",
        "\n",
        "We saw the `%timeit` line magic and `%%timeit` cell magic in the introduction to magic functions in [IPython Magic Commands](01.03-Magic-Commands.ipynb); these can be used to time the repeated execution of snippets of code:"
      ]
    },
    {
      "cell_type": "code",
      "execution_count": 1,
      "metadata": {
        "colab": {
          "base_uri": "https://localhost:8080/"
        },
        "id": "zIURbwiaIoZ0",
        "outputId": "4269d76c-b9f6-497f-af57-68e451457443"
      },
      "outputs": [
        {
          "name": "stdout",
          "output_type": "stream",
          "text": [
            "28 ms ± 1.82 ms per loop (mean ± std. dev. of 7 runs, 10 loops each)\n"
          ]
        }
      ],
      "source": [
        "%timeit sum(range(1000000))"
      ]
    },
    {
      "cell_type": "markdown",
      "metadata": {
        "id": "4BuN1DuMIoZ0"
      },
      "source": [
        "Note that because this operation is so fast, `%timeit` automatically does a large number of repetitions.\n",
        "For slower commands, `%timeit` will automatically adjust and perform fewer repetitions:"
      ]
    },
    {
      "cell_type": "code",
      "execution_count": 2,
      "metadata": {
        "colab": {
          "base_uri": "https://localhost:8080/"
        },
        "id": "4jm1DvgMIoZ1",
        "outputId": "2be0c805-779b-410e-a30a-f82673be97fc"
      },
      "outputs": [
        {
          "name": "stdout",
          "output_type": "stream",
          "text": [
            "327 ms ± 4.67 ms per loop (mean ± std. dev. of 7 runs, 1 loop each)\n"
          ]
        }
      ],
      "source": [
        "%%timeit\n",
        "total = 0\n",
        "for i in range(1000):\n",
        "    for j in range(1000):\n",
        "        total += i * (-1) ** j"
      ]
    },
    {
      "cell_type": "markdown",
      "metadata": {
        "id": "yS6a5FlIIoZ1"
      },
      "source": [
        "Sometimes repeating an operation is not the best option.\n",
        "For example, if we have a list that we'd like to sort, we might be misled by a repeated operation; sorting a pre-sorted list is much faster than sorting an unsorted list, so the repetition will skew the result:"
      ]
    },
    {
      "cell_type": "code",
      "execution_count": 3,
      "metadata": {
        "colab": {
          "base_uri": "https://localhost:8080/"
        },
        "id": "9k4RL3bjIoZ1",
        "outputId": "d0006aa4-c5e5-4ca8-cacb-9c90dad8f160"
      },
      "outputs": [
        {
          "name": "stdout",
          "output_type": "stream",
          "text": [
            "before sort: [0.028418290740943597, 0.4777762076389942, 0.6581140475498154, 0.9020257406838922, 0.019873759346403452, 0.04689871707413096, 0.9824385725541567, 0.21657285352477829, 0.23454198127633463, 0.3511825239484879]\n",
            "57.6 ns ± 3.7 ns per loop (mean ± std. dev. of 7 runs, 10,000,000 loops each)\n",
            "after sort: [0.019873759346403452, 0.028418290740943597, 0.04689871707413096, 0.21657285352477829, 0.23454198127633463, 0.3511825239484879, 0.4777762076389942, 0.6581140475498154, 0.9020257406838922, 0.9824385725541567]\n"
          ]
        }
      ],
      "source": [
        "import random\n",
        "L = [random.random() for i in range(10)]\n",
        "print('before sort:', L)\n",
        "%timeit L.sort()\n",
        "print('after sort:', L)"
      ]
    },
    {
      "cell_type": "code",
      "execution_count": null,
      "metadata": {
        "id": "53MbRIGyIoZ1",
        "outputId": "96984388-2560-4461-923f-123257bcb40b"
      },
      "outputs": [
        {
          "name": "stdout",
          "output_type": "stream",
          "text": [
            "sorting an unsorted list:\n",
            "CPU times: user 31.3 ms, sys: 686 µs, total: 32 ms\n",
            "Wall time: 33.3 ms\n"
          ]
        }
      ],
      "source": [
        "import random\n",
        "L = [random.random() for i in range(100000)]\n",
        "print(\"sorting an unsorted list:\")\n",
        "%time L.sort()"
      ]
    },
    {
      "cell_type": "code",
      "execution_count": 5,
      "metadata": {
        "colab": {
          "base_uri": "https://localhost:8080/"
        },
        "id": "XpxGKN8aIoZ1",
        "outputId": "8a8a74b9-3add-45ee-d069-ab9ab81190c1"
      },
      "outputs": [
        {
          "name": "stdout",
          "output_type": "stream",
          "text": [
            "sorting an already sorted list:\n",
            "CPU times: user 5 µs, sys: 0 ns, total: 5 µs\n",
            "Wall time: 9.3 µs\n"
          ]
        }
      ],
      "source": [
        "print(\"sorting an already sorted list:\")\n",
        "%time L.sort()"
      ]
    },
    {
      "cell_type": "markdown",
      "metadata": {
        "id": "m6_gxReGIoZ2"
      },
      "source": [
        "Notice how much faster the presorted list is to sort, but notice also how much longer the timing takes with `%time` versus `%timeit`, even for the presorted list!\n",
        "This is a result of the fact that `%timeit` does some clever things under the hood to prevent system calls from interfering with the timing.\n",
        "For example, it prevents cleanup of unused Python objects (known as *garbage collection*) that might otherwise affect the timing.\n",
        "For this reason, `%timeit` results are usually noticeably faster than `%time` results.\n",
        "\n",
        "For `%time`, as with `%timeit`, using the `%%` cell magic syntax allows timing of multiline scripts:"
      ]
    },
    {
      "cell_type": "code",
      "execution_count": null,
      "metadata": {
        "id": "t_5NX5vAIoZ2",
        "outputId": "c520ad65-391d-42dc-9905-01aa12984ee1"
      },
      "outputs": [
        {
          "name": "stdout",
          "output_type": "stream",
          "text": [
            "CPU times: user 655 ms, sys: 5.68 ms, total: 661 ms\n",
            "Wall time: 710 ms\n"
          ]
        }
      ],
      "source": [
        "%%time\n",
        "total = 0\n",
        "for i in range(1000):\n",
        "    for j in range(1000):\n",
        "        total += i * (-1) ** j"
      ]
    },
    {
      "cell_type": "markdown",
      "metadata": {
        "id": "hFDskqYOIoZ2"
      },
      "source": [
        "For more information on `%time` and `%timeit`, as well as their available options, use the IPython help functionality (e.g., type `%time?` at the IPython prompt)."
      ]
    },
    {
      "cell_type": "markdown",
      "metadata": {
        "id": "Y_Jd5KoOIoZ2"
      },
      "source": [
        "## Profiling Full Scripts: %prun\n",
        "\n",
        "A program is made up of many single statements, and sometimes timing these statements in context is more important than timing them on their own.\n",
        "Python contains a built-in code profiler (which you can read about in the Python documentation), but IPython offers a much more convenient way to use this profiler, in the form of the magic function `%prun`.\n",
        "\n",
        "By way of example, we'll define a simple function that does some calculations:"
      ]
    },
    {
      "cell_type": "markdown",
      "metadata": {
        "id": "MZpsjh7LIoZ2"
      },
      "source": []
    },
    {
      "cell_type": "code",
      "execution_count": 28,
      "metadata": {
        "id": "46gQFiujIoZ2"
      },
      "outputs": [],
      "source": [
        "def sum_of_lists(N):\n",
        "    total = 0\n",
        "    list1 =[]\n",
        "    for i in range(0,N,2):\n",
        "        if i%2 == 0:\n",
        "          total += i\n",
        "          list1.append(i)\n",
        "    return total"
      ]
    },
    {
      "cell_type": "markdown",
      "metadata": {
        "id": "OvapthoPIoZ2"
      },
      "source": [
        "Now we can call `%prun` with a function call to see the profiled results:"
      ]
    },
    {
      "cell_type": "code",
      "execution_count": 12,
      "metadata": {
        "colab": {
          "base_uri": "https://localhost:8080/"
        },
        "id": "xwNXFfGEIoZ3",
        "outputId": "3e381c91-351a-44ea-bd02-25555cbfa4ef"
      },
      "outputs": [
        {
          "name": "stdout",
          "output_type": "stream",
          "text": [
            " "
          ]
        }
      ],
      "source": [
        "%prun sum_of_lists(100000)"
      ]
    },
    {
      "cell_type": "markdown",
      "metadata": {
        "id": "7kJQHCLHIoZ3"
      },
      "source": [
        "The result is a table that indicates, in order of total time on each function call, where the execution is spending the most time. In this case, the bulk of the execution time is in the list comprehension inside `sum_of_lists`.\n",
        "From here, we could start thinking about what changes we might make to improve the performance of the algorithm.\n",
        "\n",
        "For more information on `%prun`, as well as its available options, use the IPython help functionality (i.e., type `%prun?` at the IPython prompt)."
      ]
    },
    {
      "cell_type": "markdown",
      "metadata": {
        "id": "NSyShonWIoZ3"
      },
      "source": [
        "## Line-by-Line Profiling with %lprun\n",
        "\n",
        "The function-by-function profiling of `%prun` is useful, but sometimes it's more convenient to have a line-by-line profile report.\n",
        "This is not built into Python or IPython, but there is a `line_profiler` package available for installation that can do this.\n",
        "Start by using Python's packaging tool, `pip`, to install the `line_profiler` package:\n",
        "\n",
        "```\n",
        "$ pip install line_profiler\n",
        "```\n",
        "\n",
        "Next, you can use IPython to load the `line_profiler` IPython extension, offered as part of this package:"
      ]
    },
    {
      "cell_type": "code",
      "execution_count": 14,
      "metadata": {
        "colab": {
          "base_uri": "https://localhost:8080/"
        },
        "id": "EmYY-moENNq3",
        "outputId": "22b7bb26-bc75-4968-8faa-f2651e426214"
      },
      "outputs": [
        {
          "name": "stdout",
          "output_type": "stream",
          "text": [
            "Collecting line_profiler\n",
            "  Downloading line_profiler-4.1.2-cp310-cp310-manylinux_2_17_x86_64.manylinux2014_x86_64.whl (714 kB)\n",
            "\u001b[2K     \u001b[90m━━━━━━━━━━━━━━━━━━━━━━━━━━━━━━━━━━━━━━━━\u001b[0m \u001b[32m714.8/714.8 kB\u001b[0m \u001b[31m10.0 MB/s\u001b[0m eta \u001b[36m0:00:00\u001b[0m\n",
            "\u001b[?25hInstalling collected packages: line_profiler\n",
            "Successfully installed line_profiler-4.1.2\n"
          ]
        }
      ],
      "source": [
        "!pip install line_profiler"
      ]
    },
    {
      "cell_type": "code",
      "execution_count": 15,
      "metadata": {
        "id": "pqrDWIWhIoZ3"
      },
      "outputs": [],
      "source": [
        "%load_ext line_profiler"
      ]
    },
    {
      "cell_type": "markdown",
      "metadata": {
        "id": "exfeElDcIoZ3"
      },
      "source": [
        "Now the `%lprun` command will do a line-by-line profiling of any function. In this case, we need to tell it explicitly which functions we're interested in profiling:"
      ]
    },
    {
      "cell_type": "code",
      "execution_count": 22,
      "metadata": {
        "id": "I_FSMG--IoZ3"
      },
      "outputs": [],
      "source": [
        "%lprun -f sum_of_lists sum_of_lists(50)"
      ]
    },
    {
      "cell_type": "markdown",
      "metadata": {
        "id": "F56kmE0WIoZ3"
      },
      "source": [
        "The information at the top gives us the key to reading the results: the time is reported in microseconds, and we can see where the program is spending the most time.\n",
        "At this point, we may be able to use this information to modify aspects of the script and make it perform better for our desired use case.\n",
        "\n",
        "For more information on `%lprun`, as well as its available options, use the IPython help functionality (i.e., type `%lprun?` at the IPython prompt)."
      ]
    },
    {
      "cell_type": "markdown",
      "metadata": {
        "id": "0TBaggSJIoZ3"
      },
      "source": [
        "## Profiling Memory Use: %memit and %mprun\n",
        "\n",
        "Another aspect of profiling is the amount of memory an operation uses.\n",
        "This can be evaluated with another IPython extension, the `memory_profiler`.\n",
        "As with the `line_profiler`, we start by `pip`-installing the extension:\n",
        "\n",
        "```\n",
        "$ pip install memory_profiler\n",
        "```\n",
        "\n",
        "Then we can use IPython to load it:"
      ]
    },
    {
      "cell_type": "code",
      "execution_count": 23,
      "metadata": {
        "colab": {
          "base_uri": "https://localhost:8080/"
        },
        "id": "pV-oFBUDP4wX",
        "outputId": "d1b4c76f-9fac-4f7d-cf98-307b7a5d2b7d"
      },
      "outputs": [
        {
          "name": "stdout",
          "output_type": "stream",
          "text": [
            "Collecting memory_profiler\n",
            "  Downloading memory_profiler-0.61.0-py3-none-any.whl (31 kB)\n",
            "Requirement already satisfied: psutil in /usr/local/lib/python3.10/dist-packages (from memory_profiler) (5.9.5)\n",
            "Installing collected packages: memory_profiler\n",
            "Successfully installed memory_profiler-0.61.0\n"
          ]
        }
      ],
      "source": [
        "!pip install memory_profiler"
      ]
    },
    {
      "cell_type": "code",
      "execution_count": 24,
      "metadata": {
        "id": "i4GN_5qDIoZ3"
      },
      "outputs": [],
      "source": [
        "%load_ext memory_profiler"
      ]
    },
    {
      "cell_type": "markdown",
      "metadata": {
        "id": "ENbe2RWwIoZ3"
      },
      "source": [
        "The memory profiler extension contains two useful magic functions: `%memit` (which offers a memory-measuring equivalent of `%timeit`) and `%mprun` (which offers a memory-measuring equivalent of `%lprun`).\n",
        "The `%memit` magic function can be used rather simply:"
      ]
    },
    {
      "cell_type": "code",
      "execution_count": 29,
      "metadata": {
        "colab": {
          "base_uri": "https://localhost:8080/"
        },
        "id": "jMtQOaGpIoZ4",
        "outputId": "bea53d01-5cea-4667-e66f-6120704ec6b0"
      },
      "outputs": [
        {
          "name": "stdout",
          "output_type": "stream",
          "text": [
            "peak memory: 204.86 MiB, increment: 0.02 MiB\n"
          ]
        }
      ],
      "source": [
        "%memit sum_of_lists(1000)"
      ]
    },
    {
      "cell_type": "markdown",
      "metadata": {
        "id": "bnVwDXCrIoZ4"
      },
      "source": [
        "We see that this function uses about 140 MB of memory.\n",
        "\n",
        "For a line-by-line description of memory use, we can use the `%mprun` magic function.\n",
        "Unfortunately, this works only for functions defined in separate modules rather than the notebook itself, so we'll start by using the `%%file` cell magic to create a simple module called `mprun_demo.py`, which contains our `sum_of_lists` function, with one addition that will make our memory profiling results more clear:"
      ]
    },
    {
      "cell_type": "code",
      "execution_count": 35,
      "metadata": {
        "colab": {
          "base_uri": "https://localhost:8080/"
        },
        "id": "-2UmAykKIoZ4",
        "outputId": "72415d28-77f8-4a67-fc40-1980414e5337"
      },
      "outputs": [
        {
          "name": "stdout",
          "output_type": "stream",
          "text": [
            "Overwriting mprun_demo.py\n"
          ]
        }
      ],
      "source": [
        "%%file mprun_demo.py\n",
        "def sum_of_lists(N):\n",
        "    total = 0\n",
        "    list1 =[]\n",
        "    list2=[]\n",
        "    list3=[]\n",
        "    for i in range(0,N,2):\n",
        "        if i%2 == 0:\n",
        "          total += i\n",
        "          list1.append(i)\n",
        "        else:\n",
        "          list2.append[i]\n",
        "          list3= list2.copy()\n",
        "    return total"
      ]
    },
    {
      "cell_type": "markdown",
      "metadata": {
        "id": "tYI0xLC5IoZ4"
      },
      "source": [
        "We can now import the new version of this function and run the memory line profiler:"
      ]
    },
    {
      "cell_type": "code",
      "execution_count": 38,
      "metadata": {
        "colab": {
          "base_uri": "https://localhost:8080/"
        },
        "id": "VmP-915TIoZ4",
        "outputId": "ce1c9aad-8781-45ee-94ed-7fd0278dae00"
      },
      "outputs": [
        {
          "name": "stdout",
          "output_type": "stream",
          "text": [
            "\n"
          ]
        }
      ],
      "source": [
        "from mprun_demo import sum_of_lists\n",
        "%mprun -f sum_of_lists sum_of_lists(100000)"
      ]
    },
    {
      "cell_type": "markdown",
      "metadata": {
        "id": "lg8dKkTvIoZ4"
      },
      "source": [
        "Here, the `Increment` column tells us how much each line affects the total memory budget: observe that when we create and delete the list `L`, we are adding about 30 MB of memory usage.\n",
        "This is on top of the background memory usage from the Python interpreter itself.\n",
        "\n",
        "For more information on `%memit` and `%mprun`, as well as their available options, use the IPython help functionality (e.g., type `%memit?` at the IPython prompt)."
      ]
    }
  ],
  "metadata": {
    "accelerator": "GPU",
    "anaconda-cloud": {},
    "colab": {
      "gpuType": "T4",
      "provenance": []
    },
    "jupytext": {
      "formats": "ipynb,md"
    },
    "kernelspec": {
      "display_name": "Python 3",
      "name": "python3"
    },
    "language_info": {
      "codemirror_mode": {
        "name": "ipython",
        "version": 3
      },
      "file_extension": ".py",
      "mimetype": "text/x-python",
      "name": "python",
      "nbconvert_exporter": "python",
      "pygments_lexer": "ipython3",
      "version": "3.12.3"
    }
  },
  "nbformat": 4,
  "nbformat_minor": 0
}
