{
  "cells": [
    {
      "cell_type": "markdown",
      "metadata": {
        "id": "GDMn68RoJvXf"
      },
      "source": [
        "# Regular Expression"
      ]
    },
    {
      "cell_type": "markdown",
      "metadata": {
        "id": "dGf7YPFQJvXh"
      },
      "source": [
        "- This notebook introduces the powerful regular expressions for pattern matching.\n",
        "- Codes credit to [Corey Schaffer's tutorial on regular expressions](https://www.youtube.com/watch?v=sa-TUpSx1JA)"
      ]
    },
    {
      "cell_type": "markdown",
      "metadata": {
        "id": "BKXAE-WWJvXi"
      },
      "source": [
        "## Comparison of Python and R"
      ]
    },
    {
      "cell_type": "markdown",
      "metadata": {
        "id": "SNuG8dppJvXi"
      },
      "source": [
        "|Python   |R     |\n",
        "|---|---|\n",
        "|`re.search()`|`str_extract()`|\n",
        "|`re.findall()`|`str_extract_all()`|\n",
        "|`re.finditer()`|`str_match_all()`|\n",
        "|`re.sub()`|`str_replace_all()`|\n",
        "|`re.split()`|`str_split()`|\n",
        "|`re.subn()`|?|\n",
        "|`re.match()`|?|\n",
        "|?|`str_detect()`|\n",
        "|?|`str_subset()`|"
      ]
    },
    {
      "cell_type": "markdown",
      "metadata": {
        "id": "dVy7zIPQJvXj"
      },
      "source": [
        "The above table shows the similarities and differences in terms of the regular expression functions in Python and R. They are more or less similar. These mappings can be helpful for R users to understand the `re` in Python."
      ]
    },
    {
      "cell_type": "markdown",
      "metadata": {
        "id": "-dBrjZXbJvXj"
      },
      "source": [
        "## Regular Expression Syntax"
      ]
    },
    {
      "cell_type": "code",
      "execution_count": 2,
      "metadata": {
        "id": "I-35090jJvXk"
      },
      "outputs": [],
      "source": [
        "import re\n",
        "\n",
        "text_to_search = '''\n",
        "abcdefghijklmnopqurtuvwxyz\n",
        "ABCDEFGHIJKLMNOPQRSTUVWXYZ\n",
        "1234567890\n",
        "Ha HaHa\n",
        "MetaCharacters (Need to be escaped):\n",
        ". ^ $ * + ? { } [ ] \\ | ( )\n",
        "coreyms.com\n",
        "321-555-4321\n",
        "123.555.1234\n",
        "123*555*1234\n",
        "800-555-1234\n",
        "900-555-1234\n",
        "Mr. Schafer\n",
        "Mr Smith\n",
        "Ms Davis\n",
        "Mrs. Robinson\n",
        "Mr. T\n",
        "'''\n",
        "\n",
        "sentence = 'Start a sentence and then bring it to an end'\n",
        "\n",
        "pattern = re.compile(r'\\d{3}-\\d{3}-\\d{4}', re.I)"
      ]
    },
    {
      "cell_type": "code",
      "execution_count": 4,
      "metadata": {
        "id": "UpB0JsZBJvXl",
        "outputId": "24f3811e-ac68-4fc8-a942-b43ccbdfd3b5",
        "colab": {
          "base_uri": "https://localhost:8080/"
        }
      },
      "outputs": [
        {
          "output_type": "stream",
          "name": "stdout",
          "text": [
            "321-555-4321\n"
          ]
        }
      ],
      "source": [
        "## perform a search\n",
        "matches= re.search(pattern, text_to_search)\n",
        "if matches:\n",
        "    print(matches.group())"
      ]
    },
    {
      "cell_type": "code",
      "execution_count": 5,
      "metadata": {
        "id": "wj4LL1JqJvXm",
        "outputId": "b3aec7d0-c69f-4865-ff0e-0ca918e10da7",
        "colab": {
          "base_uri": "https://localhost:8080/"
        }
      },
      "outputs": [
        {
          "output_type": "stream",
          "name": "stdout",
          "text": [
            "321-555-4321\n",
            "800-555-1234\n",
            "900-555-1234\n"
          ]
        }
      ],
      "source": [
        "## find all matches\n",
        "matches = re.findall(pattern, text_to_search)\n",
        "if matches:\n",
        "    for m in matches:\n",
        "        print(m.strip())"
      ]
    },
    {
      "cell_type": "code",
      "execution_count": 6,
      "metadata": {
        "id": "jSDO77-6JvXm",
        "outputId": "e1cb17fa-9fad-4f0d-d93c-4c852c45bd00",
        "colab": {
          "base_uri": "https://localhost:8080/"
        }
      },
      "outputs": [
        {
          "output_type": "stream",
          "name": "stdout",
          "text": [
            "151-163: 321-555-4321\n",
            "190-202: 800-555-1234\n",
            "203-215: 900-555-1234\n"
          ]
        }
      ],
      "source": [
        "## find all matches\n",
        "matches = re.finditer(pattern, text_to_search)\n",
        "if matches:\n",
        "    for m in matches:\n",
        "        print(\"%02d-%02d: %s\" % (m.start(), m.end(), m.group()))"
      ]
    },
    {
      "cell_type": "markdown",
      "metadata": {
        "id": "5yUOvBWKJvXm"
      },
      "source": [
        "## Regular Expression in Python"
      ]
    },
    {
      "cell_type": "markdown",
      "metadata": {
        "id": "SsuAU4_3JvXn"
      },
      "source": [
        "### Raw String Notation\n",
        "\n",
        "Raw string notation (r\"text\") keeps regular expressions sane. Without it, every backslash ('\\') in a regular expression would have to be prefixed with another one to escape it. For example, the two following lines of code are functionally identical:"
      ]
    },
    {
      "cell_type": "markdown",
      "metadata": {
        "id": "jl8KcW89JvXn"
      },
      "source": [
        "### Find all matches"
      ]
    },
    {
      "cell_type": "markdown",
      "metadata": {
        "id": "kceJzV5sJvXn"
      },
      "source": [
        "- `re.findall()`: matches all occurrences of a pattern, not just the first one as search() does.\n",
        "- `re.finditer(): If one wants more information about all matches of a pattern than the matched text, finditer() is useful as it provides match objects instead of strings."
      ]
    },
    {
      "cell_type": "markdown",
      "metadata": {
        "id": "wdhpUq2IJvXn"
      },
      "source": [
        "### group() vs. groups()\n",
        "\n",
        "- `group()`: by default, returns the match\n",
        "- `groups()`: by default, returns all capturing groups"
      ]
    },
    {
      "cell_type": "code",
      "execution_count": 7,
      "metadata": {
        "id": "RoeqLOdYJvXn",
        "outputId": "c6281f22-7e49-4dc1-aa5d-729ee265f67a",
        "colab": {
          "base_uri": "https://localhost:8080/"
        }
      },
      "outputs": [
        {
          "output_type": "stream",
          "name": "stdout",
          "text": [
            "abc\n",
            "abc\n",
            "('b', 'c')\n",
            "b\n"
          ]
        }
      ],
      "source": [
        "m = re.match(\"a(.)(.)\",\"abcedf\")\n",
        "\n",
        "print(m.group(0)) # return the whole match\n",
        "print(m.group()) # return the whole match, same as above\n",
        "print(m.groups()) # return each capturing group match\n",
        "print(m.group(1)) # return first capturing gorup match"
      ]
    },
    {
      "cell_type": "markdown",
      "metadata": {
        "id": "F2fGVSx4JvXn"
      },
      "source": [
        "### string format validation"
      ]
    },
    {
      "cell_type": "code",
      "execution_count": 9,
      "metadata": {
        "id": "ySpVeM7HJvXn",
        "outputId": "09b2dfa7-fb23-4cfb-d8cf-bbecac6188a9",
        "colab": {
          "base_uri": "https://localhost:8080/"
        }
      },
      "outputs": [
        {
          "output_type": "stream",
          "name": "stdout",
          "text": [
            "<re.Match object; span=(0, 14), match='ALVIN@ntnu.edu'>\n",
            "None\n",
            "None\n"
          ]
        }
      ],
      "source": [
        "valid = re.compile(r\"^[A-Z]+@[a-z]+\\.[a-z]{3}$\")\n",
        "print(valid.match('ALVIN@ntnu.edu'))\n",
        "print(valid.match('alvin123@ntnu.edu'))\n",
        "print(valid.match('alvin@ntnu.homeschool'))\n"
      ]
    },
    {
      "cell_type": "markdown",
      "metadata": {
        "id": "1X1K2SDgJvXo"
      },
      "source": [
        "### re.match() vs. re.search()"
      ]
    },
    {
      "cell_type": "markdown",
      "metadata": {
        "id": "TBYDejk6JvXo"
      },
      "source": [
        "Python offers two different primitive operations based on regular expressions:\n",
        "- `re.match()` checks for a match only at the beginning of the string\n",
        "- `re.search()` checks for a match anywhere in the string (this is what Perl does by default)."
      ]
    },
    {
      "cell_type": "code",
      "execution_count": 11,
      "metadata": {
        "id": "AJozkmAPJvXo",
        "outputId": "611bde8f-05fd-4417-8c77-a989ad6162bf",
        "colab": {
          "base_uri": "https://localhost:8080/"
        }
      },
      "outputs": [
        {
          "output_type": "stream",
          "name": "stdout",
          "text": [
            "None\n",
            "None\n"
          ]
        }
      ],
      "source": [
        "print(re.match(\"c\", \"abcdef\"))    # No match\n",
        "print(re.search(\"A\", \"abcdef\"))  # No match, same as above"
      ]
    },
    {
      "cell_type": "code",
      "execution_count": 12,
      "metadata": {
        "id": "D506snVWJvXo",
        "outputId": "b5a04dc6-90b3-4466-a77b-c9ff4b35bc21",
        "colab": {
          "base_uri": "https://localhost:8080/"
        }
      },
      "outputs": [
        {
          "output_type": "stream",
          "name": "stdout",
          "text": [
            "<re.Match object; span=(2, 3), match='c'>\n"
          ]
        }
      ],
      "source": [
        "print(re.search(\"c\", \"abcdef\"))   # Match"
      ]
    },
    {
      "cell_type": "markdown",
      "metadata": {
        "id": "UyjHvmByJvXo"
      },
      "source": [
        ":::{note}\n",
        "\n",
        "- `re.match` always matches at the beginning of the input string even if it is in the MULTILINE mode.\n",
        "\n",
        "- `re.search` however, when in MULTILINE mode, is able to search at the beginning of every line if used in combination with `^`.\n",
        "\n",
        ":::\n",
        "\n"
      ]
    },
    {
      "cell_type": "code",
      "execution_count": null,
      "metadata": {
        "id": "VqkeknqiJvXo",
        "outputId": "107a510f-26be-45fd-b5b4-78efeb1be420"
      },
      "outputs": [
        {
          "name": "stdout",
          "output_type": "stream",
          "text": [
            "None\n",
            "<re.Match object; span=(4, 5), match='X'>\n",
            "None\n"
          ]
        }
      ],
      "source": [
        "print(re.match('X', 'A\\nB\\nX', re.MULTILINE))  # No match\n",
        "print(re.search('^X', 'A\\nB\\nX', re.MULTILINE))  # Match\n",
        "print(re.search('^X', 'A\\nB\\nX')) # No match"
      ]
    },
    {
      "cell_type": "markdown",
      "metadata": {
        "id": "ZPNsXfYSJvXo"
      },
      "source": [
        "### re.split()"
      ]
    },
    {
      "cell_type": "code",
      "execution_count": 13,
      "metadata": {
        "id": "e9ZNx5FPJvXp"
      },
      "outputs": [],
      "source": [
        "text = \"\"\"Ross McFluff: 834.345.1254 155 Elm Street\n",
        "Ronald Heathmore: 892.345.3428 436 Finley Avenue\n",
        "Frank Burger: 925.541.7625 662 South Dogwood Way\n",
        "Heather Albrecht: 548.326.4584 919 Park Place\"\"\""
      ]
    },
    {
      "cell_type": "code",
      "source": [
        "print(type(text))"
      ],
      "metadata": {
        "id": "a6GOYsAmOjuM",
        "outputId": "17a8bed5-2a47-4583-d5df-2dce56ae1fe6",
        "colab": {
          "base_uri": "https://localhost:8080/"
        }
      },
      "execution_count": 15,
      "outputs": [
        {
          "output_type": "stream",
          "name": "stdout",
          "text": [
            "<class 'str'>\n"
          ]
        }
      ]
    },
    {
      "cell_type": "code",
      "execution_count": 22,
      "metadata": {
        "id": "DBMnJkFDJvXq"
      },
      "outputs": [],
      "source": [
        "# split text into lines\n",
        "data = re.split(r'\\n',text)"
      ]
    },
    {
      "cell_type": "code",
      "source": [
        "data"
      ],
      "metadata": {
        "id": "VHhH-f4nPEIT",
        "outputId": "0c573fbc-e762-4517-9877-fcea4cee3c32",
        "colab": {
          "base_uri": "https://localhost:8080/"
        }
      },
      "execution_count": 23,
      "outputs": [
        {
          "output_type": "execute_result",
          "data": {
            "text/plain": [
              "['Ross McFluff: 834.345.1254 155 Elm Street',\n",
              " 'Ronald Heathmore: 892.345.3428 436 Finley Avenue',\n",
              " 'Frank Burger: 925.541.7625 662 South Dogwood Way',\n",
              " 'Heather Albrecht: 548.326.4584 919 Park Place']"
            ]
          },
          "metadata": {},
          "execution_count": 23
        }
      ]
    },
    {
      "cell_type": "code",
      "source": [
        "type(data)"
      ],
      "metadata": {
        "id": "HawEnA7pOnao",
        "outputId": "5dd5b4f0-f63a-4188-c25c-b2698493682e",
        "colab": {
          "base_uri": "https://localhost:8080/"
        }
      },
      "execution_count": 18,
      "outputs": [
        {
          "output_type": "execute_result",
          "data": {
            "text/plain": [
              "list"
            ]
          },
          "metadata": {},
          "execution_count": 18
        }
      ]
    },
    {
      "cell_type": "code",
      "execution_count": null,
      "metadata": {
        "id": "lqyD3X_UJvXq",
        "outputId": "8d05b9ea-bc76-4c94-c0ff-b2f0ae5391e0"
      },
      "outputs": [
        {
          "data": {
            "text/plain": [
              "['Ross McFluff: 834.345.1254 155 Elm Street',\n",
              " 'Ronald Heathmore: 892.345.3428 436 Finley Avenue',\n",
              " 'Frank Burger: 925.541.7625 662 South Dogwood Way',\n",
              " 'Heather Albrecht: 548.326.4584 919 Park Place']"
            ]
          },
          "execution_count": 63,
          "metadata": {},
          "output_type": "execute_result"
        }
      ],
      "source": [
        "re.split(r'\\n+', text)"
      ]
    },
    {
      "cell_type": "code",
      "execution_count": 20,
      "metadata": {
        "id": "zw3w4rCqJvXq"
      },
      "outputs": [],
      "source": [
        "entries = re.split(r'\\n+', text)"
      ]
    },
    {
      "cell_type": "code",
      "execution_count": 21,
      "metadata": {
        "id": "9PWd2cp0JvXq",
        "outputId": "57d5799d-02f8-4a52-ead8-26024ee08806",
        "colab": {
          "base_uri": "https://localhost:8080/"
        }
      },
      "outputs": [
        {
          "output_type": "execute_result",
          "data": {
            "text/plain": [
              "[['Ross', 'McFluff:', '834.345.1254', '155', 'Elm', 'Street'],\n",
              " ['Ronald', 'Heathmore:', '892.345.3428', '436', 'Finley', 'Avenue'],\n",
              " ['Frank', 'Burger:', '925.541.7625', '662', 'South', 'Dogwood', 'Way'],\n",
              " ['Heather', 'Albrecht:', '548.326.4584', '919', 'Park', 'Place']]"
            ]
          },
          "metadata": {},
          "execution_count": 21
        }
      ],
      "source": [
        "[re.split(r'\\s', entry) for entry in entries] # list comprehenison"
      ]
    },
    {
      "cell_type": "code",
      "execution_count": 24,
      "metadata": {
        "id": "tfImOrQxJvXq",
        "outputId": "b1952492-8a48-4d72-b549-04d76fb6d7d6",
        "colab": {
          "base_uri": "https://localhost:8080/"
        }
      },
      "outputs": [
        {
          "output_type": "execute_result",
          "data": {
            "text/plain": [
              "[['Ross', 'McFluff', '834.345.1254', '155 Elm Street'],\n",
              " ['Ronald', 'Heathmore', '892.345.3428', '436 Finley Avenue'],\n",
              " ['Frank', 'Burger', '925.541.7625', '662 South Dogwood Way'],\n",
              " ['Heather', 'Albrecht', '548.326.4584', '919 Park Place']]"
            ]
          },
          "metadata": {},
          "execution_count": 24
        }
      ],
      "source": [
        "[re.split(r':?\\s', entry, maxsplit=3) for entry in entries]"
      ]
    },
    {
      "cell_type": "markdown",
      "metadata": {
        "id": "vfVG1lVuJvXq"
      },
      "source": [
        "### Text Munging"
      ]
    },
    {
      "cell_type": "markdown",
      "metadata": {
        "id": "KS0Xb65rJvXr"
      },
      "source": [
        "- re.sub()"
      ]
    },
    {
      "cell_type": "code",
      "execution_count": 25,
      "metadata": {
        "id": "Y1kJWawrJvXr"
      },
      "outputs": [],
      "source": [
        "text = '''Peter Piper picked a peck of pickled peppers\n",
        "A peck of pickled peppers Peter Piper picked\n",
        "If Peter Piper picked a peck of pickled peppers\n",
        "Where’s the peck of pickled peppers Peter Piper picked?'''"
      ]
    },
    {
      "cell_type": "code",
      "execution_count": 26,
      "metadata": {
        "id": "dmQp4G_PJvXr",
        "outputId": "e4d8b4ca-3a1b-42a8-e442-b4808058c6db",
        "colab": {
          "base_uri": "https://localhost:8080/"
        }
      },
      "outputs": [
        {
          "output_type": "stream",
          "name": "stdout",
          "text": [
            "P_t_r P_p_r p_ck_d _ p_ck _f p_ckl_d p_pp_rs\n",
            "A p_ck _f p_ckl_d p_pp_rs P_t_r P_p_r p_ck_d\n",
            "If P_t_r P_p_r p_ck_d _ p_ck _f p_ckl_d p_pp_rs\n",
            "Wh_r_’s th_ p_ck _f p_ckl_d p_pp_rs P_t_r P_p_r p_ck_d?\n"
          ]
        }
      ],
      "source": [
        "print(re.sub(r'[aeiou]','_', text))"
      ]
    },
    {
      "cell_type": "code",
      "execution_count": 27,
      "metadata": {
        "id": "iT385vECJvXr",
        "outputId": "0483343a-5c53-45c9-b959-7f0e791ccf84",
        "colab": {
          "base_uri": "https://localhost:8080/"
        }
      },
      "outputs": [
        {
          "output_type": "stream",
          "name": "stdout",
          "text": [
            "P[e]t[e]r P[i]p[e]r p[i]ck[e]d [a] p[e]ck [o]f p[i]ckl[e]d p[e]pp[e]rs\n",
            "A p[e]ck [o]f p[i]ckl[e]d p[e]pp[e]rs P[e]t[e]r P[i]p[e]r p[i]ck[e]d\n",
            "If P[e]t[e]r P[i]p[e]r p[i]ck[e]d [a] p[e]ck [o]f p[i]ckl[e]d p[e]pp[e]rs\n",
            "Wh[e]r[e]’s th[e] p[e]ck [o]f p[i]ckl[e]d p[e]pp[e]rs P[e]t[e]r P[i]p[e]r p[i]ck[e]d?\n"
          ]
        }
      ],
      "source": [
        "print(re.sub(r'([aeiou])',r'[\\1]', text))"
      ]
    },
    {
      "cell_type": "code",
      "execution_count": 28,
      "metadata": {
        "id": "Exyx5liUJvXr"
      },
      "outputs": [],
      "source": [
        "American_dates = [\"7/31/1976\", \"02.15.1970\", \"11-31-1986\", \"04/01.2020\"]"
      ]
    },
    {
      "cell_type": "code",
      "execution_count": 29,
      "metadata": {
        "id": "L9qe31ZaJvXr",
        "outputId": "90c72b0a-ef96-4298-b902-cdbf83aeac63",
        "colab": {
          "base_uri": "https://localhost:8080/"
        }
      },
      "outputs": [
        {
          "output_type": "stream",
          "name": "stdout",
          "text": [
            "['31/7/1976', '15.02.1970', '31-11-1986', '01/04.2020']\n"
          ]
        }
      ],
      "source": [
        "\n",
        "print([re.sub(r'(\\d+)(\\D)(\\d+)(\\D)(\\d+)', r'\\3\\2\\1\\4\\5', date) for date in American_dates])"
      ]
    },
    {
      "cell_type": "markdown",
      "metadata": {
        "id": "sVCPoz4-JvXr"
      },
      "source": [
        "- In `re.sub(repl, string)`, the `repl` argument can be a function. If `repl` is a function, it is called for every non-overlapping occurrence of pattern. The function takes a single match object argument, and returns the replacement string."
      ]
    },
    {
      "cell_type": "code",
      "execution_count": null,
      "metadata": {
        "id": "yawR7iA7JvXu",
        "outputId": "5b490ae9-4a9a-4516-c30b-eeec022a2bb3"
      },
      "outputs": [
        {
          "data": {
            "text/plain": [
              "'ThFs Fs B sFmplF sFntFncF.'"
            ]
          },
          "execution_count": 5,
          "metadata": {},
          "output_type": "execute_result"
        }
      ],
      "source": [
        "s = \"This is a simple sentence.\"\n",
        "\n",
        "pat_vowels = re.compile(r'[aeiou]')\n",
        "\n",
        "def replaceVowels(m):\n",
        "    c = m.group(0)\n",
        "    c2 = \"\"\n",
        "    if c in \"ie\":\n",
        "        c2 = \"F\"\n",
        "    else:\n",
        "        c2 = \"B\"\n",
        "    return c2\n",
        "pat_vowels.sub(replaceVowels, s)"
      ]
    },
    {
      "cell_type": "markdown",
      "metadata": {
        "id": "FOfwslKFJvXu"
      },
      "source": [
        "## References"
      ]
    },
    {
      "cell_type": "markdown",
      "metadata": {
        "id": "r6wfO_g-JvXu"
      },
      "source": [
        "- [Python regular expression cheatsheet](https://learnbyexample.github.io/python-regex-cheatsheet/)\n",
        "- [Python official regular expression documentation](https://docs.python.org/3/library/re.html)\n",
        "- [Friedl, Jeffrey. Mastering Regular Expressions. 3rd ed., O’Reilly Media, 2009.](https://doc.lagout.org/programmation/Regular%20Expressions/Mastering%20Regular%20Expressions_%20Understand%20Your%20Data%20and%20Be%20More%20Productive%20%283rd%20ed.%29%20%5BFriedl%202006-08-18%5D.pdf)"
      ]
    }
  ],
  "metadata": {
    "kernelspec": {
      "display_name": "python-notes",
      "language": "python",
      "name": "python-notes"
    },
    "language_info": {
      "codemirror_mode": {
        "name": "ipython",
        "version": 3
      },
      "file_extension": ".py",
      "mimetype": "text/x-python",
      "name": "python",
      "nbconvert_exporter": "python",
      "pygments_lexer": "ipython3",
      "version": "3.7.0"
    },
    "toc": {
      "base_numbering": 1,
      "nav_menu": {},
      "number_sections": false,
      "sideBar": true,
      "skip_h1_title": false,
      "title_cell": "Table of Contents",
      "title_sidebar": "Contents",
      "toc_cell": false,
      "toc_position": {},
      "toc_section_display": true,
      "toc_window_display": true
    },
    "varInspector": {
      "cols": {
        "lenName": 16,
        "lenType": 16,
        "lenVar": 40
      },
      "kernels_config": {
        "python": {
          "delete_cmd_postfix": "",
          "delete_cmd_prefix": "del ",
          "library": "var_list.py",
          "varRefreshCmd": "print(var_dic_list())"
        },
        "r": {
          "delete_cmd_postfix": ") ",
          "delete_cmd_prefix": "rm(",
          "library": "var_list.r",
          "varRefreshCmd": "cat(var_dic_list()) "
        }
      },
      "types_to_exclude": [
        "module",
        "function",
        "builtin_function_or_method",
        "instance",
        "_Feature"
      ],
      "window_display": false
    },
    "colab": {
      "provenance": []
    }
  },
  "nbformat": 4,
  "nbformat_minor": 0
}